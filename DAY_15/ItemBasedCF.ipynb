{
 "cells": [
  {
   "cell_type": "markdown",
   "metadata": {},
   "source": [
    "# Item-Based Collaborative Filtering (Amazon, Netlix Prize)"
   ]
  },
  {
   "cell_type": "code",
   "execution_count": null,
   "metadata": {},
   "outputs": [],
   "source": [
    "import pandas as pd\n",
    "\n",
    "ratings_cols = ['user_id', 'movie_id', 'rating']\n",
    "ratings = pd.read_csv('./ml-100k/u.data', sep='\\t', names=ratings_cols, usecols=range(3), encoding=\"ISO-8859-1\")\n",
    "\n",
    "movies_cols = ['movie_id', 'title']\n",
    "movies = pd.read_csv('./ml-100k/u.item', sep='|', names=movies_cols, usecols=range(2), encoding=\"ISO-8859-1\")\n",
    "\n",
    "ratings = pd.merge(movies, ratings)\n",
    "\n",
    "ratings.head()"
   ]
  },
  {
   "cell_type": "code",
   "execution_count": null,
   "metadata": {},
   "outputs": [],
   "source": [
    "user_ratings = ratings.pivot_table(index=['user_id'],columns=['title'],values='rating')\n",
    "user_ratings.head(10)"
   ]
  },
  {
   "cell_type": "markdown",
   "metadata": {},
   "source": [
    "Compute a correlation score for every column pair - so every movie with every other movie"
   ]
  },
  {
   "cell_type": "code",
   "execution_count": null,
   "metadata": {},
   "outputs": [],
   "source": [
    "corr_matrix = user_ratings.corr()\n",
    "corr_matrix.head(10)"
   ]
  },
  {
   "cell_type": "markdown",
   "metadata": {},
   "source": [
    "Clean the data - minimum 100 people need to review pair of movies"
   ]
  },
  {
   "cell_type": "code",
   "execution_count": null,
   "metadata": {},
   "outputs": [],
   "source": [
    "corr_matrix = user_ratings.corr(method='pearson', min_periods=100)\n",
    "corr_matrix.head()"
   ]
  },
  {
   "cell_type": "markdown",
   "metadata": {},
   "source": [
    "Check some user ratings - pick the one who's similar to you (may take a while)"
   ]
  },
  {
   "cell_type": "code",
   "execution_count": null,
   "metadata": {},
   "outputs": [],
   "source": [
    "one_user_ratings = user_ratings.loc[150].dropna()\n",
    "one_user_ratings.sort_values(ascending = False).head(10)"
   ]
  },
  {
   "cell_type": "markdown",
   "metadata": {},
   "source": [
    "Based on the movies the user watched and rating he/she gave them, let's create movies recommendations"
   ]
  },
  {
   "cell_type": "code",
   "execution_count": null,
   "metadata": {},
   "outputs": [],
   "source": [
    "recommendations = pd.Series()\n",
    "for i in range(0, len(one_user_ratings.index)):\n",
    "    print (\"Adding recommendations for movie\" + one_user_ratings.index[i] + \".............\")\n",
    "    related_movies = corr_matrix[one_user_ratings.index[i]].dropna()\n",
    "    # scaling by movie score\n",
    "    related_movies = related_movies.map(lambda x: x * one_user_ratings[i])\n",
    "    recommendations = recommendations.append(related_movies)\n",
    "    \n",
    "print (\"Movie Recommendations:\")\n",
    "recommendations.sort_values(inplace = True, ascending = False)\n",
    "recommendations.head(10)"
   ]
  },
  {
   "cell_type": "markdown",
   "metadata": {},
   "source": [
    "Remove duplicates by aggreagating the same proposals:"
   ]
  },
  {
   "cell_type": "code",
   "execution_count": null,
   "metadata": {},
   "outputs": [],
   "source": [
    "recommendations = recommendations.groupby(recommendations.index).sum()"
   ]
  },
  {
   "cell_type": "code",
   "execution_count": null,
   "metadata": {},
   "outputs": [],
   "source": [
    "recommendations.sort_values(inplace = True, ascending = False)\n",
    "recommendations.head(10)"
   ]
  },
  {
   "cell_type": "markdown",
   "metadata": {},
   "source": [
    "Do not show movies the selected user watched already - we want to propose brand new movies he maybe didn't watch!"
   ]
  },
  {
   "cell_type": "code",
   "execution_count": null,
   "metadata": {},
   "outputs": [],
   "source": [
    "filtered_recommendations = recommendations.drop(one_user_ratings.index, errors = 'ignore')\n",
    "filtered_recommendations.head(10)"
   ]
  },
  {
   "cell_type": "markdown",
   "metadata": {},
   "source": [
    "Try to change the recommendation - maybe by not showing/ignoring movies highly related to movies specific user don't like, or to use other correlation method than person"
   ]
  },
  {
   "cell_type": "code",
   "execution_count": null,
   "metadata": {},
   "outputs": [],
   "source": []
  }
 ],
 "metadata": {
  "kernelspec": {
   "display_name": "Python 3",
   "language": "python",
   "name": "python3"
  },
  "language_info": {
   "codemirror_mode": {
    "name": "ipython",
    "version": 3
   },
   "file_extension": ".py",
   "mimetype": "text/x-python",
   "name": "python",
   "nbconvert_exporter": "python",
   "pygments_lexer": "ipython3",
   "version": "3.7.4"
  }
 },
 "nbformat": 4,
 "nbformat_minor": 1
}
